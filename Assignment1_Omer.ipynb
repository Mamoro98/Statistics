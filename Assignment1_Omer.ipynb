{
  "nbformat": 4,
  "nbformat_minor": 0,
  "metadata": {
    "colab": {
      "provenance": [],
      "authorship_tag": "ABX9TyMLB9XuPihtT5kE/nIkdDNX",
      "include_colab_link": true
    },
    "kernelspec": {
      "name": "python3",
      "display_name": "Python 3"
    },
    "language_info": {
      "name": "python"
    }
  },
  "cells": [
    {
      "cell_type": "markdown",
      "metadata": {
        "id": "view-in-github",
        "colab_type": "text"
      },
      "source": [
        "<a href=\"https://colab.research.google.com/github/Mamoro98/Statistics/blob/main/Assignment1_Omer.ipynb\" target=\"_parent\"><img src=\"https://colab.research.google.com/assets/colab-badge.svg\" alt=\"Open In Colab\"/></a>"
      ]
    },
    {
      "cell_type": "markdown",
      "source": [
        "# Init\n"
      ],
      "metadata": {
        "id": "d-E1GaRJrFrk"
      }
    },
    {
      "cell_type": "code",
      "source": [
        "!pip install tableone"
      ],
      "metadata": {
        "id": "nmpkOulgr3Bo",
        "outputId": "5652d0ed-5895-425d-d116-8b3996705fd0",
        "colab": {
          "base_uri": "https://localhost:8080/"
        }
      },
      "execution_count": 4,
      "outputs": [
        {
          "output_type": "stream",
          "name": "stdout",
          "text": [
            "Collecting tableone\n",
            "  Downloading tableone-0.9.1-py3-none-any.whl.metadata (8.5 kB)\n",
            "Requirement already satisfied: jinja2>=3.1.4 in /usr/local/lib/python3.11/dist-packages (from tableone) (3.1.5)\n",
            "Requirement already satisfied: numpy>=1.19.1 in /usr/local/lib/python3.11/dist-packages (from tableone) (1.26.4)\n",
            "Requirement already satisfied: openpyxl>=3.1.2 in /usr/local/lib/python3.11/dist-packages (from tableone) (3.1.5)\n",
            "Requirement already satisfied: pandas>=2.0.3 in /usr/local/lib/python3.11/dist-packages (from tableone) (2.2.2)\n",
            "Requirement already satisfied: scipy>=1.10.1 in /usr/local/lib/python3.11/dist-packages (from tableone) (1.13.1)\n",
            "Requirement already satisfied: statsmodels>=0.14.1 in /usr/local/lib/python3.11/dist-packages (from tableone) (0.14.4)\n",
            "Requirement already satisfied: tabulate>=0.9.0 in /usr/local/lib/python3.11/dist-packages (from tableone) (0.9.0)\n",
            "Requirement already satisfied: MarkupSafe>=2.0 in /usr/local/lib/python3.11/dist-packages (from jinja2>=3.1.4->tableone) (3.0.2)\n",
            "Requirement already satisfied: et-xmlfile in /usr/local/lib/python3.11/dist-packages (from openpyxl>=3.1.2->tableone) (2.0.0)\n",
            "Requirement already satisfied: python-dateutil>=2.8.2 in /usr/local/lib/python3.11/dist-packages (from pandas>=2.0.3->tableone) (2.8.2)\n",
            "Requirement already satisfied: pytz>=2020.1 in /usr/local/lib/python3.11/dist-packages (from pandas>=2.0.3->tableone) (2024.2)\n",
            "Requirement already satisfied: tzdata>=2022.7 in /usr/local/lib/python3.11/dist-packages (from pandas>=2.0.3->tableone) (2025.1)\n",
            "Requirement already satisfied: patsy>=0.5.6 in /usr/local/lib/python3.11/dist-packages (from statsmodels>=0.14.1->tableone) (1.0.1)\n",
            "Requirement already satisfied: packaging>=21.3 in /usr/local/lib/python3.11/dist-packages (from statsmodels>=0.14.1->tableone) (24.2)\n",
            "Requirement already satisfied: six>=1.5 in /usr/local/lib/python3.11/dist-packages (from python-dateutil>=2.8.2->pandas>=2.0.3->tableone) (1.17.0)\n",
            "Downloading tableone-0.9.1-py3-none-any.whl (41 kB)\n",
            "\u001b[2K   \u001b[90m━━━━━━━━━━━━━━━━━━━━━━━━━━━━━━━━━━━━━━━━\u001b[0m \u001b[32m41.6/41.6 kB\u001b[0m \u001b[31m2.2 MB/s\u001b[0m eta \u001b[36m0:00:00\u001b[0m\n",
            "\u001b[?25hInstalling collected packages: tableone\n",
            "Successfully installed tableone-0.9.1\n"
          ]
        }
      ]
    },
    {
      "cell_type": "code",
      "source": [
        "from tableone import TableOne\n",
        "import pandas as pd"
      ],
      "metadata": {
        "id": "NQ1s7-1yrG1R"
      },
      "execution_count": 6,
      "outputs": []
    },
    {
      "cell_type": "markdown",
      "source": [
        "# Table one"
      ],
      "metadata": {
        "id": "36FllyzcsHGk"
      }
    },
    {
      "cell_type": "code",
      "source": [
        "df = pd.read_csv('/content/meni.csv')"
      ],
      "metadata": {
        "id": "4BzOwX1Ir14l"
      },
      "execution_count": 7,
      "outputs": []
    },
    {
      "cell_type": "code",
      "source": [
        "df.head()"
      ],
      "metadata": {
        "id": "mLz6F2GnsjU8",
        "outputId": "c5db6a55-1531-48c2-eff1-7633f19a8d1f",
        "colab": {
          "base_uri": "https://localhost:8080/",
          "height": 312
        }
      },
      "execution_count": 11,
      "outputs": [
        {
          "output_type": "execute_result",
          "data": {
            "text/plain": [
              "         id       dateI district uneb_strata ownership ageg  \\\n",
              "0  W52-162F  2022-05-13   Wakiso   High UNEB   Private   16   \n",
              "1  W32-155F  2022-06-12   Wakiso   High UNEB   Private   15   \n",
              "2  K17-109F  2022-04-01  Kalungu   High UNEB   Private   16   \n",
              "3  K15-135F  2022-03-25  Kalungu   High UNEB   Private   15   \n",
              "4  K06-274F  2022-06-05  Kalungu   High UNEB   Private   17   \n",
              "\n",
              "                cgeduc  age_first dayschool                   religion  \\\n",
              "0            Secondary       15.0  Boarding  Protestant/Born Again/SDA   \n",
              "1  More than secondary       13.0  Boarding                     Muslim   \n",
              "2  More than secondary       13.0  Boarding  Protestant/Born Again/SDA   \n",
              "3  More than secondary       12.0  Boarding  Protestant/Born Again/SDA   \n",
              "4              Primary       15.0  Boarding  Protestant/Born Again/SDA   \n",
              "\n",
              "       Muganda       hhsize  difficulty  knowledge painmgt  math_conf  \\\n",
              "0      Muganda   10+ people           7          3      No   1.666667   \n",
              "1  Non_Muganda  6-10 people          25          4      No   0.777778   \n",
              "2      Muganda    <5 people          16          5      No   2.555556   \n",
              "3  Non_Muganda  6-10 people           3          6      No   2.333333   \n",
              "4  Non_Muganda  6-10 people          19          3     Yes   1.666667   \n",
              "\n",
              "   science_conf  school  \n",
              "0           1.5      52  \n",
              "1           2.5      32  \n",
              "2           1.0      17  \n",
              "3           2.0      15  \n",
              "4           1.5       6  "
            ],
            "text/html": [
              "\n",
              "  <div id=\"df-70bac253-acea-4865-a46d-bd51036dbd3d\" class=\"colab-df-container\">\n",
              "    <div>\n",
              "<style scoped>\n",
              "    .dataframe tbody tr th:only-of-type {\n",
              "        vertical-align: middle;\n",
              "    }\n",
              "\n",
              "    .dataframe tbody tr th {\n",
              "        vertical-align: top;\n",
              "    }\n",
              "\n",
              "    .dataframe thead th {\n",
              "        text-align: right;\n",
              "    }\n",
              "</style>\n",
              "<table border=\"1\" class=\"dataframe\">\n",
              "  <thead>\n",
              "    <tr style=\"text-align: right;\">\n",
              "      <th></th>\n",
              "      <th>id</th>\n",
              "      <th>dateI</th>\n",
              "      <th>district</th>\n",
              "      <th>uneb_strata</th>\n",
              "      <th>ownership</th>\n",
              "      <th>ageg</th>\n",
              "      <th>cgeduc</th>\n",
              "      <th>age_first</th>\n",
              "      <th>dayschool</th>\n",
              "      <th>religion</th>\n",
              "      <th>Muganda</th>\n",
              "      <th>hhsize</th>\n",
              "      <th>difficulty</th>\n",
              "      <th>knowledge</th>\n",
              "      <th>painmgt</th>\n",
              "      <th>math_conf</th>\n",
              "      <th>science_conf</th>\n",
              "      <th>school</th>\n",
              "    </tr>\n",
              "  </thead>\n",
              "  <tbody>\n",
              "    <tr>\n",
              "      <th>0</th>\n",
              "      <td>W52-162F</td>\n",
              "      <td>2022-05-13</td>\n",
              "      <td>Wakiso</td>\n",
              "      <td>High UNEB</td>\n",
              "      <td>Private</td>\n",
              "      <td>16</td>\n",
              "      <td>Secondary</td>\n",
              "      <td>15.0</td>\n",
              "      <td>Boarding</td>\n",
              "      <td>Protestant/Born Again/SDA</td>\n",
              "      <td>Muganda</td>\n",
              "      <td>10+ people</td>\n",
              "      <td>7</td>\n",
              "      <td>3</td>\n",
              "      <td>No</td>\n",
              "      <td>1.666667</td>\n",
              "      <td>1.5</td>\n",
              "      <td>52</td>\n",
              "    </tr>\n",
              "    <tr>\n",
              "      <th>1</th>\n",
              "      <td>W32-155F</td>\n",
              "      <td>2022-06-12</td>\n",
              "      <td>Wakiso</td>\n",
              "      <td>High UNEB</td>\n",
              "      <td>Private</td>\n",
              "      <td>15</td>\n",
              "      <td>More than secondary</td>\n",
              "      <td>13.0</td>\n",
              "      <td>Boarding</td>\n",
              "      <td>Muslim</td>\n",
              "      <td>Non_Muganda</td>\n",
              "      <td>6-10 people</td>\n",
              "      <td>25</td>\n",
              "      <td>4</td>\n",
              "      <td>No</td>\n",
              "      <td>0.777778</td>\n",
              "      <td>2.5</td>\n",
              "      <td>32</td>\n",
              "    </tr>\n",
              "    <tr>\n",
              "      <th>2</th>\n",
              "      <td>K17-109F</td>\n",
              "      <td>2022-04-01</td>\n",
              "      <td>Kalungu</td>\n",
              "      <td>High UNEB</td>\n",
              "      <td>Private</td>\n",
              "      <td>16</td>\n",
              "      <td>More than secondary</td>\n",
              "      <td>13.0</td>\n",
              "      <td>Boarding</td>\n",
              "      <td>Protestant/Born Again/SDA</td>\n",
              "      <td>Muganda</td>\n",
              "      <td>&lt;5 people</td>\n",
              "      <td>16</td>\n",
              "      <td>5</td>\n",
              "      <td>No</td>\n",
              "      <td>2.555556</td>\n",
              "      <td>1.0</td>\n",
              "      <td>17</td>\n",
              "    </tr>\n",
              "    <tr>\n",
              "      <th>3</th>\n",
              "      <td>K15-135F</td>\n",
              "      <td>2022-03-25</td>\n",
              "      <td>Kalungu</td>\n",
              "      <td>High UNEB</td>\n",
              "      <td>Private</td>\n",
              "      <td>15</td>\n",
              "      <td>More than secondary</td>\n",
              "      <td>12.0</td>\n",
              "      <td>Boarding</td>\n",
              "      <td>Protestant/Born Again/SDA</td>\n",
              "      <td>Non_Muganda</td>\n",
              "      <td>6-10 people</td>\n",
              "      <td>3</td>\n",
              "      <td>6</td>\n",
              "      <td>No</td>\n",
              "      <td>2.333333</td>\n",
              "      <td>2.0</td>\n",
              "      <td>15</td>\n",
              "    </tr>\n",
              "    <tr>\n",
              "      <th>4</th>\n",
              "      <td>K06-274F</td>\n",
              "      <td>2022-06-05</td>\n",
              "      <td>Kalungu</td>\n",
              "      <td>High UNEB</td>\n",
              "      <td>Private</td>\n",
              "      <td>17</td>\n",
              "      <td>Primary</td>\n",
              "      <td>15.0</td>\n",
              "      <td>Boarding</td>\n",
              "      <td>Protestant/Born Again/SDA</td>\n",
              "      <td>Non_Muganda</td>\n",
              "      <td>6-10 people</td>\n",
              "      <td>19</td>\n",
              "      <td>3</td>\n",
              "      <td>Yes</td>\n",
              "      <td>1.666667</td>\n",
              "      <td>1.5</td>\n",
              "      <td>6</td>\n",
              "    </tr>\n",
              "  </tbody>\n",
              "</table>\n",
              "</div>\n",
              "    <div class=\"colab-df-buttons\">\n",
              "\n",
              "  <div class=\"colab-df-container\">\n",
              "    <button class=\"colab-df-convert\" onclick=\"convertToInteractive('df-70bac253-acea-4865-a46d-bd51036dbd3d')\"\n",
              "            title=\"Convert this dataframe to an interactive table.\"\n",
              "            style=\"display:none;\">\n",
              "\n",
              "  <svg xmlns=\"http://www.w3.org/2000/svg\" height=\"24px\" viewBox=\"0 -960 960 960\">\n",
              "    <path d=\"M120-120v-720h720v720H120Zm60-500h600v-160H180v160Zm220 220h160v-160H400v160Zm0 220h160v-160H400v160ZM180-400h160v-160H180v160Zm440 0h160v-160H620v160ZM180-180h160v-160H180v160Zm440 0h160v-160H620v160Z\"/>\n",
              "  </svg>\n",
              "    </button>\n",
              "\n",
              "  <style>\n",
              "    .colab-df-container {\n",
              "      display:flex;\n",
              "      gap: 12px;\n",
              "    }\n",
              "\n",
              "    .colab-df-convert {\n",
              "      background-color: #E8F0FE;\n",
              "      border: none;\n",
              "      border-radius: 50%;\n",
              "      cursor: pointer;\n",
              "      display: none;\n",
              "      fill: #1967D2;\n",
              "      height: 32px;\n",
              "      padding: 0 0 0 0;\n",
              "      width: 32px;\n",
              "    }\n",
              "\n",
              "    .colab-df-convert:hover {\n",
              "      background-color: #E2EBFA;\n",
              "      box-shadow: 0px 1px 2px rgba(60, 64, 67, 0.3), 0px 1px 3px 1px rgba(60, 64, 67, 0.15);\n",
              "      fill: #174EA6;\n",
              "    }\n",
              "\n",
              "    .colab-df-buttons div {\n",
              "      margin-bottom: 4px;\n",
              "    }\n",
              "\n",
              "    [theme=dark] .colab-df-convert {\n",
              "      background-color: #3B4455;\n",
              "      fill: #D2E3FC;\n",
              "    }\n",
              "\n",
              "    [theme=dark] .colab-df-convert:hover {\n",
              "      background-color: #434B5C;\n",
              "      box-shadow: 0px 1px 3px 1px rgba(0, 0, 0, 0.15);\n",
              "      filter: drop-shadow(0px 1px 2px rgba(0, 0, 0, 0.3));\n",
              "      fill: #FFFFFF;\n",
              "    }\n",
              "  </style>\n",
              "\n",
              "    <script>\n",
              "      const buttonEl =\n",
              "        document.querySelector('#df-70bac253-acea-4865-a46d-bd51036dbd3d button.colab-df-convert');\n",
              "      buttonEl.style.display =\n",
              "        google.colab.kernel.accessAllowed ? 'block' : 'none';\n",
              "\n",
              "      async function convertToInteractive(key) {\n",
              "        const element = document.querySelector('#df-70bac253-acea-4865-a46d-bd51036dbd3d');\n",
              "        const dataTable =\n",
              "          await google.colab.kernel.invokeFunction('convertToInteractive',\n",
              "                                                    [key], {});\n",
              "        if (!dataTable) return;\n",
              "\n",
              "        const docLinkHtml = 'Like what you see? Visit the ' +\n",
              "          '<a target=\"_blank\" href=https://colab.research.google.com/notebooks/data_table.ipynb>data table notebook</a>'\n",
              "          + ' to learn more about interactive tables.';\n",
              "        element.innerHTML = '';\n",
              "        dataTable['output_type'] = 'display_data';\n",
              "        await google.colab.output.renderOutput(dataTable, element);\n",
              "        const docLink = document.createElement('div');\n",
              "        docLink.innerHTML = docLinkHtml;\n",
              "        element.appendChild(docLink);\n",
              "      }\n",
              "    </script>\n",
              "  </div>\n",
              "\n",
              "\n",
              "<div id=\"df-32800652-211f-4791-a799-e8b3f837ea09\">\n",
              "  <button class=\"colab-df-quickchart\" onclick=\"quickchart('df-32800652-211f-4791-a799-e8b3f837ea09')\"\n",
              "            title=\"Suggest charts\"\n",
              "            style=\"display:none;\">\n",
              "\n",
              "<svg xmlns=\"http://www.w3.org/2000/svg\" height=\"24px\"viewBox=\"0 0 24 24\"\n",
              "     width=\"24px\">\n",
              "    <g>\n",
              "        <path d=\"M19 3H5c-1.1 0-2 .9-2 2v14c0 1.1.9 2 2 2h14c1.1 0 2-.9 2-2V5c0-1.1-.9-2-2-2zM9 17H7v-7h2v7zm4 0h-2V7h2v10zm4 0h-2v-4h2v4z\"/>\n",
              "    </g>\n",
              "</svg>\n",
              "  </button>\n",
              "\n",
              "<style>\n",
              "  .colab-df-quickchart {\n",
              "      --bg-color: #E8F0FE;\n",
              "      --fill-color: #1967D2;\n",
              "      --hover-bg-color: #E2EBFA;\n",
              "      --hover-fill-color: #174EA6;\n",
              "      --disabled-fill-color: #AAA;\n",
              "      --disabled-bg-color: #DDD;\n",
              "  }\n",
              "\n",
              "  [theme=dark] .colab-df-quickchart {\n",
              "      --bg-color: #3B4455;\n",
              "      --fill-color: #D2E3FC;\n",
              "      --hover-bg-color: #434B5C;\n",
              "      --hover-fill-color: #FFFFFF;\n",
              "      --disabled-bg-color: #3B4455;\n",
              "      --disabled-fill-color: #666;\n",
              "  }\n",
              "\n",
              "  .colab-df-quickchart {\n",
              "    background-color: var(--bg-color);\n",
              "    border: none;\n",
              "    border-radius: 50%;\n",
              "    cursor: pointer;\n",
              "    display: none;\n",
              "    fill: var(--fill-color);\n",
              "    height: 32px;\n",
              "    padding: 0;\n",
              "    width: 32px;\n",
              "  }\n",
              "\n",
              "  .colab-df-quickchart:hover {\n",
              "    background-color: var(--hover-bg-color);\n",
              "    box-shadow: 0 1px 2px rgba(60, 64, 67, 0.3), 0 1px 3px 1px rgba(60, 64, 67, 0.15);\n",
              "    fill: var(--button-hover-fill-color);\n",
              "  }\n",
              "\n",
              "  .colab-df-quickchart-complete:disabled,\n",
              "  .colab-df-quickchart-complete:disabled:hover {\n",
              "    background-color: var(--disabled-bg-color);\n",
              "    fill: var(--disabled-fill-color);\n",
              "    box-shadow: none;\n",
              "  }\n",
              "\n",
              "  .colab-df-spinner {\n",
              "    border: 2px solid var(--fill-color);\n",
              "    border-color: transparent;\n",
              "    border-bottom-color: var(--fill-color);\n",
              "    animation:\n",
              "      spin 1s steps(1) infinite;\n",
              "  }\n",
              "\n",
              "  @keyframes spin {\n",
              "    0% {\n",
              "      border-color: transparent;\n",
              "      border-bottom-color: var(--fill-color);\n",
              "      border-left-color: var(--fill-color);\n",
              "    }\n",
              "    20% {\n",
              "      border-color: transparent;\n",
              "      border-left-color: var(--fill-color);\n",
              "      border-top-color: var(--fill-color);\n",
              "    }\n",
              "    30% {\n",
              "      border-color: transparent;\n",
              "      border-left-color: var(--fill-color);\n",
              "      border-top-color: var(--fill-color);\n",
              "      border-right-color: var(--fill-color);\n",
              "    }\n",
              "    40% {\n",
              "      border-color: transparent;\n",
              "      border-right-color: var(--fill-color);\n",
              "      border-top-color: var(--fill-color);\n",
              "    }\n",
              "    60% {\n",
              "      border-color: transparent;\n",
              "      border-right-color: var(--fill-color);\n",
              "    }\n",
              "    80% {\n",
              "      border-color: transparent;\n",
              "      border-right-color: var(--fill-color);\n",
              "      border-bottom-color: var(--fill-color);\n",
              "    }\n",
              "    90% {\n",
              "      border-color: transparent;\n",
              "      border-bottom-color: var(--fill-color);\n",
              "    }\n",
              "  }\n",
              "</style>\n",
              "\n",
              "  <script>\n",
              "    async function quickchart(key) {\n",
              "      const quickchartButtonEl =\n",
              "        document.querySelector('#' + key + ' button');\n",
              "      quickchartButtonEl.disabled = true;  // To prevent multiple clicks.\n",
              "      quickchartButtonEl.classList.add('colab-df-spinner');\n",
              "      try {\n",
              "        const charts = await google.colab.kernel.invokeFunction(\n",
              "            'suggestCharts', [key], {});\n",
              "      } catch (error) {\n",
              "        console.error('Error during call to suggestCharts:', error);\n",
              "      }\n",
              "      quickchartButtonEl.classList.remove('colab-df-spinner');\n",
              "      quickchartButtonEl.classList.add('colab-df-quickchart-complete');\n",
              "    }\n",
              "    (() => {\n",
              "      let quickchartButtonEl =\n",
              "        document.querySelector('#df-32800652-211f-4791-a799-e8b3f837ea09 button');\n",
              "      quickchartButtonEl.style.display =\n",
              "        google.colab.kernel.accessAllowed ? 'block' : 'none';\n",
              "    })();\n",
              "  </script>\n",
              "</div>\n",
              "\n",
              "    </div>\n",
              "  </div>\n"
            ],
            "application/vnd.google.colaboratory.intrinsic+json": {
              "type": "dataframe",
              "variable_name": "df",
              "summary": "{\n  \"name\": \"df\",\n  \"rows\": 1164,\n  \"fields\": [\n    {\n      \"column\": \"id\",\n      \"properties\": {\n        \"dtype\": \"string\",\n        \"num_unique_values\": 1164,\n        \"samples\": [\n          \"W46-194F\",\n          \"K07-129F\",\n          \"W43-123F\"\n        ],\n        \"semantic_type\": \"\",\n        \"description\": \"\"\n      }\n    },\n    {\n      \"column\": \"dateI\",\n      \"properties\": {\n        \"dtype\": \"object\",\n        \"num_unique_values\": 74,\n        \"samples\": [\n          \"2022-06-05\",\n          \"2022-06-27\",\n          \"2022-03-26\"\n        ],\n        \"semantic_type\": \"\",\n        \"description\": \"\"\n      }\n    },\n    {\n      \"column\": \"district\",\n      \"properties\": {\n        \"dtype\": \"category\",\n        \"num_unique_values\": 2,\n        \"samples\": [\n          \"Kalungu\",\n          \"Wakiso\"\n        ],\n        \"semantic_type\": \"\",\n        \"description\": \"\"\n      }\n    },\n    {\n      \"column\": \"uneb_strata\",\n      \"properties\": {\n        \"dtype\": \"category\",\n        \"num_unique_values\": 2,\n        \"samples\": [\n          \"Low UNEB\",\n          \"High UNEB\"\n        ],\n        \"semantic_type\": \"\",\n        \"description\": \"\"\n      }\n    },\n    {\n      \"column\": \"ownership\",\n      \"properties\": {\n        \"dtype\": \"category\",\n        \"num_unique_values\": 2,\n        \"samples\": [\n          \"Government\",\n          \"Private\"\n        ],\n        \"semantic_type\": \"\",\n        \"description\": \"\"\n      }\n    },\n    {\n      \"column\": \"ageg\",\n      \"properties\": {\n        \"dtype\": \"category\",\n        \"num_unique_values\": 5,\n        \"samples\": [\n          \"15\",\n          \"<15\"\n        ],\n        \"semantic_type\": \"\",\n        \"description\": \"\"\n      }\n    },\n    {\n      \"column\": \"cgeduc\",\n      \"properties\": {\n        \"dtype\": \"category\",\n        \"num_unique_values\": 5,\n        \"samples\": [\n          \"More than secondary\",\n          \"None or less than primary\"\n        ],\n        \"semantic_type\": \"\",\n        \"description\": \"\"\n      }\n    },\n    {\n      \"column\": \"age_first\",\n      \"properties\": {\n        \"dtype\": \"number\",\n        \"std\": 1.0362365368563549,\n        \"min\": 10.0,\n        \"max\": 15.0,\n        \"num_unique_values\": 6,\n        \"samples\": [\n          15.0,\n          13.0\n        ],\n        \"semantic_type\": \"\",\n        \"description\": \"\"\n      }\n    },\n    {\n      \"column\": \"dayschool\",\n      \"properties\": {\n        \"dtype\": \"category\",\n        \"num_unique_values\": 2,\n        \"samples\": [\n          \"Day\",\n          \"Boarding\"\n        ],\n        \"semantic_type\": \"\",\n        \"description\": \"\"\n      }\n    },\n    {\n      \"column\": \"religion\",\n      \"properties\": {\n        \"dtype\": \"category\",\n        \"num_unique_values\": 4,\n        \"samples\": [\n          \"Muslim\",\n          \"Catholic\"\n        ],\n        \"semantic_type\": \"\",\n        \"description\": \"\"\n      }\n    },\n    {\n      \"column\": \"Muganda\",\n      \"properties\": {\n        \"dtype\": \"category\",\n        \"num_unique_values\": 2,\n        \"samples\": [\n          \"Non_Muganda\",\n          \"Muganda\"\n        ],\n        \"semantic_type\": \"\",\n        \"description\": \"\"\n      }\n    },\n    {\n      \"column\": \"hhsize\",\n      \"properties\": {\n        \"dtype\": \"category\",\n        \"num_unique_values\": 3,\n        \"samples\": [\n          \"10+ people\",\n          \"6-10 people\"\n        ],\n        \"semantic_type\": \"\",\n        \"description\": \"\"\n      }\n    },\n    {\n      \"column\": \"difficulty\",\n      \"properties\": {\n        \"dtype\": \"number\",\n        \"std\": 5,\n        \"min\": 0,\n        \"max\": 30,\n        \"num_unique_values\": 30,\n        \"samples\": [\n          30,\n          8\n        ],\n        \"semantic_type\": \"\",\n        \"description\": \"\"\n      }\n    },\n    {\n      \"column\": \"knowledge\",\n      \"properties\": {\n        \"dtype\": \"number\",\n        \"std\": 1,\n        \"min\": 0,\n        \"max\": 9,\n        \"num_unique_values\": 10,\n        \"samples\": [\n          9,\n          4\n        ],\n        \"semantic_type\": \"\",\n        \"description\": \"\"\n      }\n    },\n    {\n      \"column\": \"painmgt\",\n      \"properties\": {\n        \"dtype\": \"category\",\n        \"num_unique_values\": 2,\n        \"samples\": [\n          \"Yes\",\n          \"No\"\n        ],\n        \"semantic_type\": \"\",\n        \"description\": \"\"\n      }\n    },\n    {\n      \"column\": \"math_conf\",\n      \"properties\": {\n        \"dtype\": \"number\",\n        \"std\": 0.6652978403037784,\n        \"min\": 0.0,\n        \"max\": 3.0,\n        \"num_unique_values\": 28,\n        \"samples\": [\n          2.88888883590698,\n          2.11111116409302\n        ],\n        \"semantic_type\": \"\",\n        \"description\": \"\"\n      }\n    },\n    {\n      \"column\": \"science_conf\",\n      \"properties\": {\n        \"dtype\": \"number\",\n        \"std\": 0.6028673186086672,\n        \"min\": 0.0,\n        \"max\": 3.0,\n        \"num_unique_values\": 24,\n        \"samples\": [\n          1.75,\n          0.0\n        ],\n        \"semantic_type\": \"\",\n        \"description\": \"\"\n      }\n    },\n    {\n      \"column\": \"school\",\n      \"properties\": {\n        \"dtype\": \"number\",\n        \"std\": 18,\n        \"min\": 1,\n        \"max\": 67,\n        \"num_unique_values\": 60,\n        \"samples\": [\n          52,\n          60\n        ],\n        \"semantic_type\": \"\",\n        \"description\": \"\"\n      }\n    }\n  ]\n}"
            }
          },
          "metadata": {},
          "execution_count": 11
        }
      ]
    },
    {
      "cell_type": "code",
      "source": [
        "df.columns"
      ],
      "metadata": {
        "id": "sbJBK_sVsQHK",
        "outputId": "3cdb30c7-44f8-4a5f-f6fe-6af99cd06b03",
        "colab": {
          "base_uri": "https://localhost:8080/"
        }
      },
      "execution_count": 10,
      "outputs": [
        {
          "output_type": "execute_result",
          "data": {
            "text/plain": [
              "Index(['id', 'dateI', 'district', 'uneb_strata', 'ownership', 'ageg', 'cgeduc',\n",
              "       'age_first', 'dayschool', 'religion', 'Muganda', 'hhsize', 'difficulty',\n",
              "       'knowledge', 'painmgt', 'math_conf', 'science_conf', 'school'],\n",
              "      dtype='object')"
            ]
          },
          "metadata": {},
          "execution_count": 10
        }
      ]
    },
    {
      "cell_type": "code",
      "source": [
        "groupby = 'dayschool'\n",
        "categorical = ['religion', 'cgeduc']\n",
        "continuous = ['math_conf', 'science_conf', 'age_first']\n",
        "\n",
        "\n",
        "table = TableOne(df, columns=categorical + continuous, categorical=categorical, groupby=groupby, pval=True)\n",
        "\n",
        "\n",
        "print(table)\n"
      ],
      "metadata": {
        "id": "0OrRKk99sItw",
        "outputId": "18d27620-1074-4d2d-b97a-077c8b13a9ae",
        "colab": {
          "base_uri": "https://localhost:8080/"
        }
      },
      "execution_count": 14,
      "outputs": [
        {
          "output_type": "stream",
          "name": "stdout",
          "text": [
            "                                                  Grouped by dayschool                                            \n",
            "                                                               Missing     Overall    Boarding         Day P-Value\n",
            "n                                                                             1164         516         648        \n",
            "religion, n (%)         Catholic                                        355 (30.5)  154 (29.8)  201 (31.0)   0.762\n",
            "                        Muslim                                          349 (30.0)  163 (31.6)  186 (28.7)        \n",
            "                        None/Other                                         5 (0.4)     2 (0.4)     3 (0.5)        \n",
            "                        Protestant/Born Again/SDA                       455 (39.1)  197 (38.2)  258 (39.8)        \n",
            "cgeduc, n (%)           Don't know                                      202 (17.4)   82 (15.9)  120 (18.5)  <0.001\n",
            "                        More than secondary                             292 (25.1)  164 (31.8)  128 (19.8)        \n",
            "                        None or less than primary                         40 (3.4)    16 (3.1)    24 (3.7)        \n",
            "                        Primary                                         220 (18.9)   85 (16.5)  135 (20.8)        \n",
            "                        Secondary                                       410 (35.2)  169 (32.8)  241 (37.2)        \n",
            "math_conf, mean (SD)                                                 0   1.7 (0.7)   1.7 (0.7)   1.6 (0.6)   0.008\n",
            "science_conf, mean (SD)                                              0   2.1 (0.6)   2.1 (0.6)   2.0 (0.6)   0.088\n",
            "age_first, mean (SD)                                                43  13.3 (1.0)  13.1 (1.0)  13.4 (1.0)  <0.001\n",
            "\n"
          ]
        }
      ]
    },
    {
      "cell_type": "code",
      "source": [
        "# Religion does not significantly differ between day and boarding students (p = 0.762).\n",
        "# Caregiver education level significantly differs (p < 0.001), with more educated caregivers in the boarding group.\n",
        "# Mathematics confidence is slightly higher for boarding students (p = 0.008).\n",
        "# Science confidence does not significantly differ between groups (p = 0.088).\n",
        "# Day school students tend to be slightly older than boarding school students (p < 0.001)."
      ],
      "metadata": {
        "id": "xUQ98rYVsOnm"
      },
      "execution_count": 15,
      "outputs": []
    },
    {
      "cell_type": "code",
      "source": [
        "# Introduction to the MENISCUS Study\n",
        "# The MENISCUS study aims to explore factors influencing educational outcomes among schoolchildren, focusing on aspects such as school type, confidence in mathematics and science, and caregiver education. Data was collected through structured interviews conducted between [INSERT INTERVIEW DATE RANGE], capturing demographic, educational, and psychosocial characteristics. The study seeks to analyze variations in these characteristics between students attending boarding and day schools."
      ],
      "metadata": {
        "id": "KIVdWEJEuGuB"
      },
      "execution_count": 16,
      "outputs": []
    },
    {
      "cell_type": "code",
      "source": [
        "# Summary of Table 1 Results\n",
        "# Our analysis reveals key differences between boarding and day school students. Notably, caregivers of boarding school students tend to have higher education levels (p < 0.001), while math confidence is slightly higher among boarding students (p = 0.008). In contrast, science confidence does not differ significantly between the two groups (p = 0.088). Furthermore, day school students are, on average, slightly older than boarding students (p < 0.001), suggesting possible differences in school entry age or progression rates. Religious distribution, however, remains relatively balanced across both groups (p = 0.762)."
      ],
      "metadata": {
        "id": "RAj_PsOwul9e"
      },
      "execution_count": 17,
      "outputs": []
    },
    {
      "cell_type": "code",
      "source": [
        "import matplotlib.pyplot as plt\n",
        "import seaborn as sns\n",
        "\n",
        "plt.figure(figsize=(10, 5))\n",
        "sns.histplot(df, bins=10, kde=True, x='dateI')\n",
        "\n",
        "plt.xticks(pd.date_range(start=df['dateI'].min(),\n",
        "                         end=df['dateI'].max(),\n",
        "                         freq='ME'))\n",
        "\n",
        "plt.xlabel('Interview Date')\n",
        "plt.ylabel('Count')\n",
        "plt.title('Distribution of Interview Dates')\n",
        "plt.show()\n"
      ],
      "metadata": {
        "id": "sHehj76Qup3M",
        "outputId": "8c364ba0-69c2-483e-9006-6f652169a56a",
        "colab": {
          "base_uri": "https://localhost:8080/",
          "height": 487
        }
      },
      "execution_count": 32,
      "outputs": [
        {
          "output_type": "display_data",
          "data": {
            "text/plain": [
              "<Figure size 1000x500 with 1 Axes>"
            ],
            "image/png": "[encoded data removed]"
          },
          "metadata": {}
        }
      ]
    },
    {
      "cell_type": "code",
      "source": [],
      "metadata": {
        "id": "2X_8Y5l3uy4I"
      },
      "execution_count": null,
      "outputs": []
    }
  ]
}